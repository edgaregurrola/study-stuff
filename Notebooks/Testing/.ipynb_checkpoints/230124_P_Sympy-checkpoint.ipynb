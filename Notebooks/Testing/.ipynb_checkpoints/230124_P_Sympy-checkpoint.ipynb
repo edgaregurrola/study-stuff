{
 "cells": [
  {
   "cell_type": "code",
   "execution_count": 17,
   "id": "dfa84f5c-72fe-4557-9c26-6a2c1e7ce558",
   "metadata": {},
   "outputs": [],
   "source": [
    "import sympy\n",
    "from sympy import symbols, Eq, solve"
   ]
  },
  {
   "cell_type": "code",
   "execution_count": 4,
   "id": "245d205e-ead0-4aa0-88d5-9b385b44c015",
   "metadata": {},
   "outputs": [],
   "source": [
    "x, y, z = symbols('x y z')"
   ]
  },
  {
   "cell_type": "code",
   "execution_count": 10,
   "id": "65dbf098-a78d-45ea-8035-dc32fa7ef3ae",
   "metadata": {},
   "outputs": [],
   "source": [
    "eq1 = 2*x + y"
   ]
  },
  {
   "cell_type": "code",
   "execution_count": 11,
   "id": "8432a803-0048-4fcd-835b-75944a143d34",
   "metadata": {},
   "outputs": [],
   "source": [
    "eq2 = expr.subs(y, 2*x**2 + z**(-3))"
   ]
  },
  {
   "cell_type": "code",
   "execution_count": 12,
   "id": "f8c52e31-f0d0-4c3e-854a-3ca49a4ea1c8",
   "metadata": {},
   "outputs": [],
   "source": [
    "sol = solve((eq1, eq2),(x, y, z))"
   ]
  },
  {
   "cell_type": "code",
   "execution_count": 13,
   "id": "0ad0d079-fd9e-4a41-9f7d-cf12871000e2",
   "metadata": {},
   "outputs": [
    {
     "data": {
      "text/plain": [
       "[(-1/2 - sqrt(z**3*(z**3 - 2))/(2*z**3), 1 + sqrt(z**3*(z**3 - 2))/z**3, z),\n",
       " (-1/2 + sqrt(z**3*(z**3 - 2))/(2*z**3), 1 - sqrt(z**3*(z**3 - 2))/z**3, z)]"
      ]
     },
     "execution_count": 13,
     "metadata": {},
     "output_type": "execute_result"
    }
   ],
   "source": [
    "sol"
   ]
  },
  {
   "cell_type": "code",
   "execution_count": 14,
   "id": "6bb73874-e268-4c74-8500-8c43eda91602",
   "metadata": {},
   "outputs": [],
   "source": [
    "x, y = symbols('x y')"
   ]
  },
  {
   "cell_type": "code",
   "execution_count": 19,
   "id": "fc2e8250-7e2f-4477-94f8-57210fc00a18",
   "metadata": {},
   "outputs": [],
   "source": [
    "eq1 = Eq(2*x - y - 1, 0)"
   ]
  },
  {
   "cell_type": "code",
   "execution_count": 20,
   "id": "dbcb1908-51f9-4a8a-8c51-ad4f5a30bd57",
   "metadata": {},
   "outputs": [],
   "source": [
    "eq2 = Eq(x + y - 5, 0)"
   ]
  },
  {
   "cell_type": "code",
   "execution_count": 21,
   "id": "5b0d62fd-701e-4167-9571-69010f9049a8",
   "metadata": {},
   "outputs": [],
   "source": [
    "sol = solve((eq1, eq2),(x, y))"
   ]
  },
  {
   "cell_type": "code",
   "execution_count": 22,
   "id": "57bbc577-164b-44a3-b891-dadf129bf2cc",
   "metadata": {},
   "outputs": [
    {
     "data": {
      "text/plain": [
       "{x: 2, y: 3}"
      ]
     },
     "execution_count": 22,
     "metadata": {},
     "output_type": "execute_result"
    }
   ],
   "source": [
    "sol"
   ]
  },
  {
   "cell_type": "code",
   "execution_count": 23,
   "id": "5a8e452b-dc9f-46b0-9bf9-42f39d78b883",
   "metadata": {},
   "outputs": [],
   "source": [
    "a1,a2,a3,a4,a5 = symbols('a1 a2 a3 a4 a5')"
   ]
  }
 ],
 "metadata": {
  "kernelspec": {
   "display_name": "Python 3 (ipykernel)",
   "language": "python",
   "name": "python3"
  },
  "language_info": {
   "codemirror_mode": {
    "name": "ipython",
    "version": 3
   },
   "file_extension": ".py",
   "mimetype": "text/x-python",
   "name": "python",
   "nbconvert_exporter": "python",
   "pygments_lexer": "ipython3",
   "version": "3.10.4"
  }
 },
 "nbformat": 4,
 "nbformat_minor": 5
}
