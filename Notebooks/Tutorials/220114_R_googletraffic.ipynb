{
 "cells": [
  {
   "cell_type": "code",
   "execution_count": 1,
   "id": "3e9bf859-0db2-439f-ab6b-32d6df572769",
   "metadata": {},
   "outputs": [
    {
     "ename": "ERROR",
     "evalue": "Error in library(googletraffic): there is no package called ‘googletraffic’\n",
     "output_type": "error",
     "traceback": [
      "Error in library(googletraffic): there is no package called ‘googletraffic’\nTraceback:\n",
      "1. library(googletraffic)"
     ]
    }
   ],
   "source": [
    "library(googletraffic)"
   ]
  },
  {
   "cell_type": "code",
   "execution_count": 2,
   "id": "9196ab22-0fbe-4ef8-bbf2-25ebff6712bc",
   "metadata": {},
   "outputs": [],
   "source": [
    "library(ggplot2)"
   ]
  },
  {
   "cell_type": "code",
   "execution_count": 3,
   "id": "6a8586e2-e65d-4d05-84ff-e9677e7f6c31",
   "metadata": {},
   "outputs": [
    {
     "ename": "ERROR",
     "evalue": "Error in library(googletraffic): there is no package called ‘googletraffic’\n",
     "output_type": "error",
     "traceback": [
      "Error in library(googletraffic): there is no package called ‘googletraffic’\nTraceback:\n",
      "1. library(googletraffic)"
     ]
    }
   ],
   "source": [
    "library(googletraffic)"
   ]
  },
  {
   "cell_type": "code",
   "execution_count": null,
   "id": "83489fce-9006-473c-abbe-66e3f09feda7",
   "metadata": {},
   "outputs": [],
   "source": []
  }
 ],
 "metadata": {
  "kernelspec": {
   "display_name": "R",
   "language": "R",
   "name": "ir"
  },
  "language_info": {
   "codemirror_mode": "r",
   "file_extension": ".r",
   "mimetype": "text/x-r-source",
   "name": "R",
   "pygments_lexer": "r",
   "version": "4.2.0"
  }
 },
 "nbformat": 4,
 "nbformat_minor": 5
}
