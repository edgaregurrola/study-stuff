{
 "cells": [
  {
   "cell_type": "markdown",
   "id": "a676c27d-7a1c-4325-8a74-2e1f4ea34d51",
   "metadata": {},
   "source": [
    "# Principal Coordiante Analysis"
   ]
  },
  {
   "cell_type": "markdown",
   "id": "726169d6-c6be-4b96-ada1-7094fa00c7e6",
   "metadata": {},
   "source": [
    "Notebook used for testing Principal Coordinate Analysis [methodology](https://towardsdatascience.com/principal-coordinates-analysis-cc9a572ce6c?utm_source=pocket_reader) taken from Medium. According to the article:\n",
    "*Principal Coordinates Analysis is a statistical method that converts data on distances between items into map-based visualization of those items.*\n",
    "This uses Perceptual Mapping, which: *means that you make a geographic map, but you use an unusual distance measure.*\n",
    "\n",
    "In this case, we are using household price listings from IIEG."
   ]
  },
  {
   "cell_type": "markdown",
   "id": "04da6767-e5d6-47c8-9648-2cf3588acecc",
   "metadata": {
    "tags": []
   },
   "source": [
    "## Import libraries"
   ]
  },
  {
   "cell_type": "code",
   "execution_count": 3,
   "id": "0c339bd5-e4ca-4367-aff8-221e77c39c0f",
   "metadata": {},
   "outputs": [
    {
     "name": "stdout",
     "output_type": "stream",
     "text": [
      "2023-01-14 21:19:19 Configured OSMnx 1.1.2\n",
      "2023-01-14 21:19:19 HTTP response caching is on\n"
     ]
    }
   ],
   "source": [
    "import os\n",
    "import sys\n",
    "\n",
    "import pandas as pd\n",
    "import geopandas as gpd\n",
    "import numpy as np\n",
    "\n",
    "import matplotlib.pyplot as plt\n",
    "import seaborn as sns\n",
    "\n",
    "module_path = os.path.abspath(os.path.join('../../../../observatorio-ciudades/accesibilidad-urbana/'))\n",
    "if module_path not in sys.path:\n",
    "    sys.path.append(module_path)\n",
    "    import aup"
   ]
  },
  {
   "cell_type": "markdown",
   "id": "34d15cf0-ad24-4dad-a46f-ee6064e35372",
   "metadata": {},
   "source": [
    "## Download data"
   ]
  },
  {
   "cell_type": "code",
   "execution_count": 4,
   "id": "b7e256e0-c7a6-4c39-b4ca-a4940f6b6cb9",
   "metadata": {},
   "outputs": [
    {
     "name": "stdout",
     "output_type": "stream",
     "text": [
      "(85539, 10)\n"
     ]
    },
    {
     "data": {
      "text/html": [
       "<div>\n",
       "<style scoped>\n",
       "    .dataframe tbody tr th:only-of-type {\n",
       "        vertical-align: middle;\n",
       "    }\n",
       "\n",
       "    .dataframe tbody tr th {\n",
       "        vertical-align: top;\n",
       "    }\n",
       "\n",
       "    .dataframe thead th {\n",
       "        text-align: right;\n",
       "    }\n",
       "</style>\n",
       "<table border=\"1\" class=\"dataframe\">\n",
       "  <thead>\n",
       "    <tr style=\"text-align: right;\">\n",
       "      <th></th>\n",
       "      <th>Inmueble</th>\n",
       "      <th>Precio</th>\n",
       "      <th>Municipio</th>\n",
       "      <th>Colonia</th>\n",
       "      <th>x</th>\n",
       "      <th>y</th>\n",
       "      <th>geometry</th>\n",
       "      <th>year</th>\n",
       "      <th>Metros cuadrados de terreno</th>\n",
       "      <th>Metros cuadrados de construcción</th>\n",
       "    </tr>\n",
       "  </thead>\n",
       "  <tbody>\n",
       "    <tr>\n",
       "      <th>0</th>\n",
       "      <td>Departamento</td>\n",
       "      <td>6476224.0</td>\n",
       "      <td>Guadalajara</td>\n",
       "      <td>LADRON DE GUEVARA</td>\n",
       "      <td>-103.372094</td>\n",
       "      <td>20.686948</td>\n",
       "      <td>POINT (-103.37209 20.68695)</td>\n",
       "      <td>2019</td>\n",
       "      <td>NaN</td>\n",
       "      <td>NaN</td>\n",
       "    </tr>\n",
       "    <tr>\n",
       "      <th>1</th>\n",
       "      <td>Departamento</td>\n",
       "      <td>5390000.0</td>\n",
       "      <td>Zapopan</td>\n",
       "      <td>CAMINO REAL</td>\n",
       "      <td>-103.414164</td>\n",
       "      <td>20.669928</td>\n",
       "      <td>POINT (-103.41416 20.66993)</td>\n",
       "      <td>2019</td>\n",
       "      <td>NaN</td>\n",
       "      <td>NaN</td>\n",
       "    </tr>\n",
       "    <tr>\n",
       "      <th>2</th>\n",
       "      <td>Departamento</td>\n",
       "      <td>3677233.0</td>\n",
       "      <td>Guadalajara</td>\n",
       "      <td>JARDINES DEL BOSQUE</td>\n",
       "      <td>-103.382841</td>\n",
       "      <td>20.662215</td>\n",
       "      <td>POINT (-103.38284 20.66222)</td>\n",
       "      <td>2019</td>\n",
       "      <td>NaN</td>\n",
       "      <td>NaN</td>\n",
       "    </tr>\n",
       "    <tr>\n",
       "      <th>3</th>\n",
       "      <td>Departamento</td>\n",
       "      <td>7593583.0</td>\n",
       "      <td>Guadalajara</td>\n",
       "      <td>PROVIDENCIA</td>\n",
       "      <td>-103.379044</td>\n",
       "      <td>20.701857</td>\n",
       "      <td>POINT (-103.37904 20.70186)</td>\n",
       "      <td>2019</td>\n",
       "      <td>NaN</td>\n",
       "      <td>NaN</td>\n",
       "    </tr>\n",
       "  </tbody>\n",
       "</table>\n",
       "</div>"
      ],
      "text/plain": [
       "       Inmueble     Precio    Municipio              Colonia           x  \\\n",
       "0  Departamento  6476224.0  Guadalajara    LADRON DE GUEVARA -103.372094   \n",
       "1  Departamento  5390000.0      Zapopan          CAMINO REAL -103.414164   \n",
       "2  Departamento  3677233.0  Guadalajara  JARDINES DEL BOSQUE -103.382841   \n",
       "3  Departamento  7593583.0  Guadalajara          PROVIDENCIA -103.379044   \n",
       "\n",
       "           y                     geometry  year  Metros cuadrados de terreno  \\\n",
       "0  20.686948  POINT (-103.37209 20.68695)  2019                          NaN   \n",
       "1  20.669928  POINT (-103.41416 20.66993)  2019                          NaN   \n",
       "2  20.662215  POINT (-103.38284 20.66222)  2019                          NaN   \n",
       "3  20.701857  POINT (-103.37904 20.70186)  2019                          NaN   \n",
       "\n",
       "   Metros cuadrados de construcción  \n",
       "0                               NaN  \n",
       "1                               NaN  \n",
       "2                               NaN  \n",
       "3                               NaN  "
      ]
     },
     "execution_count": 4,
     "metadata": {},
     "output_type": "execute_result"
    }
   ],
   "source": [
    "gdf = aup.gdf_from_db('household_sale_price_guadalajara','household_price')\n",
    "print(gdf.shape)\n",
    "gdf.head(4)"
   ]
  },
  {
   "cell_type": "code",
   "execution_count": 5,
   "id": "2ce2938e-5bd5-43d7-a0b1-841ae61171bf",
   "metadata": {},
   "outputs": [
    {
     "data": {
      "text/plain": [
       "<AxesSubplot: >"
      ]
     },
     "execution_count": 5,
     "metadata": {},
     "output_type": "execute_result"
    },
    {
     "data": {
      "image/png": "[encoded data removed]",
      "text/plain": [
       "<Figure size 432x288 with 1 Axes>"
      ]
     },
     "metadata": {
      "needs_background": "light"
     },
     "output_type": "display_data"
    }
   ],
   "source": [
    "gdf.plot()"
   ]
  },
  {
   "cell_type": "code",
   "execution_count": 7,
   "id": "86bd9ca2-71b4-48be-addf-2abd0c432523",
   "metadata": {},
   "outputs": [
    {
     "data": {
      "text/plain": [
       "<AxesSubplot: >"
      ]
     },
     "execution_count": 7,
     "metadata": {},
     "output_type": "execute_result"
    },
    {
     "data": {
      "image/png": "[encoded data removed]",
      "text/plain": [
       "<Figure size 432x288 with 1 Axes>"
      ]
     },
     "metadata": {
      "needs_background": "light"
     },
     "output_type": "display_data"
    }
   ],
   "source": [
    "gdf.plot('Municipio')"
   ]
  },
  {
   "cell_type": "code",
   "execution_count": 10,
   "id": "9f2b1dc1-c5a4-472e-a764-bf4b776c5461",
   "metadata": {},
   "outputs": [],
   "source": [
    "gdf.Municipio = gdf.Municipio.str.title()\n",
    "gdf.loc[gdf.Municipio=='Tonalá','Municipio'] = 'Tonala'"
   ]
  },
  {
   "cell_type": "code",
   "execution_count": 11,
   "id": "1ba555ea-5e69-4e59-a698-d7152ba493a8",
   "metadata": {},
   "outputs": [
    {
     "data": {
      "text/html": [
       "<div>\n",
       "<style scoped>\n",
       "    .dataframe tbody tr th:only-of-type {\n",
       "        vertical-align: middle;\n",
       "    }\n",
       "\n",
       "    .dataframe tbody tr th {\n",
       "        vertical-align: top;\n",
       "    }\n",
       "\n",
       "    .dataframe thead th {\n",
       "        text-align: right;\n",
       "    }\n",
       "</style>\n",
       "<table border=\"1\" class=\"dataframe\">\n",
       "  <thead>\n",
       "    <tr style=\"text-align: right;\">\n",
       "      <th></th>\n",
       "      <th>Precio</th>\n",
       "    </tr>\n",
       "    <tr>\n",
       "      <th>Municipio</th>\n",
       "      <th></th>\n",
       "    </tr>\n",
       "  </thead>\n",
       "  <tbody>\n",
       "    <tr>\n",
       "      <th>El Salto</th>\n",
       "      <td>1.967447e+06</td>\n",
       "    </tr>\n",
       "    <tr>\n",
       "      <th>Guadalajara</th>\n",
       "      <td>5.524267e+06</td>\n",
       "    </tr>\n",
       "    <tr>\n",
       "      <th>Tlajomulco</th>\n",
       "      <td>5.621751e+06</td>\n",
       "    </tr>\n",
       "    <tr>\n",
       "      <th>Tlaquepaque</th>\n",
       "      <td>2.234478e+06</td>\n",
       "    </tr>\n",
       "    <tr>\n",
       "      <th>Tonala</th>\n",
       "      <td>1.468708e+06</td>\n",
       "    </tr>\n",
       "    <tr>\n",
       "      <th>Zapopan</th>\n",
       "      <td>8.290355e+06</td>\n",
       "    </tr>\n",
       "  </tbody>\n",
       "</table>\n",
       "</div>"
      ],
      "text/plain": [
       "                   Precio\n",
       "Municipio                \n",
       "El Salto     1.967447e+06\n",
       "Guadalajara  5.524267e+06\n",
       "Tlajomulco   5.621751e+06\n",
       "Tlaquepaque  2.234478e+06\n",
       "Tonala       1.468708e+06\n",
       "Zapopan      8.290355e+06"
      ]
     },
     "execution_count": 11,
     "metadata": {},
     "output_type": "execute_result"
    }
   ],
   "source": [
    "gdf[['Municipio','Precio']].groupby('Municipio').mean()"
   ]
  },
  {
   "cell_type": "code",
   "execution_count": null,
   "id": "877a7dca-ab05-4f1e-8002-a89a3b296c41",
   "metadata": {},
   "outputs": [],
   "source": []
  }
 ],
 "metadata": {
  "kernelspec": {
   "display_name": "odc",
   "language": "python",
   "name": "odc"
  },
  "language_info": {
   "codemirror_mode": {
    "name": "ipython",
    "version": 3
   },
   "file_extension": ".py",
   "mimetype": "text/x-python",
   "name": "python",
   "nbconvert_exporter": "python",
   "pygments_lexer": "ipython3",
   "version": "3.10.4"
  }
 },
 "nbformat": 4,
 "nbformat_minor": 5
}
